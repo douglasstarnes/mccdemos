{
 "cells": [
  {
   "cell_type": "code",
   "execution_count": 15,
   "metadata": {
    "collapsed": true
   },
   "outputs": [],
   "source": [
    "import string"
   ]
  },
  {
   "cell_type": "code",
   "execution_count": 16,
   "metadata": {
    "collapsed": false
   },
   "outputs": [
    {
     "data": {
      "text/plain": [
       "'abcdefghijklmnopqrstuvwxyzABCDEFGHIJKLMNOPQRSTUVWXYZ'"
      ]
     },
     "execution_count": 16,
     "metadata": {},
     "output_type": "execute_result"
    }
   ],
   "source": [
    "string.ascii_letters"
   ]
  },
  {
   "cell_type": "code",
   "execution_count": 17,
   "metadata": {
    "collapsed": false
   },
   "outputs": [
    {
     "data": {
      "text/plain": [
       "'0123456789'"
      ]
     },
     "execution_count": 17,
     "metadata": {},
     "output_type": "execute_result"
    }
   ],
   "source": [
    "string.digits"
   ]
  },
  {
   "cell_type": "code",
   "execution_count": 18,
   "metadata": {
    "collapsed": true
   },
   "outputs": [],
   "source": [
    "import random"
   ]
  },
  {
   "cell_type": "code",
   "execution_count": 125,
   "metadata": {
    "collapsed": false
   },
   "outputs": [],
   "source": [
    "def generate_password(length=8):\n",
    "    return ''.join([random.choice(string.ascii_letters + string.digits + string.digits) for _ in range(length)])"
   ]
  },
  {
   "cell_type": "code",
   "execution_count": 97,
   "metadata": {
    "collapsed": false
   },
   "outputs": [
    {
     "data": {
      "text/plain": [
       "'jcfTECBn8CXVrmgS'"
      ]
     },
     "execution_count": 97,
     "metadata": {},
     "output_type": "execute_result"
    }
   ],
   "source": [
    "generate_password(16)"
   ]
  },
  {
   "cell_type": "code",
   "execution_count": 152,
   "metadata": {
    "collapsed": false
   },
   "outputs": [
    {
     "name": "stdout",
     "output_type": "stream",
     "text": [
      "0.39\n"
     ]
    }
   ],
   "source": [
    "test_pws = ','.join([generate_password(16) for _ in range(100)])\n",
    "\n",
    "%run pwfns.py $test_pws"
   ]
  },
  {
   "cell_type": "code",
   "execution_count": 153,
   "metadata": {
    "collapsed": true
   },
   "outputs": [],
   "source": [
    "f = open('pascal.txt', 'r')"
   ]
  },
  {
   "cell_type": "code",
   "execution_count": 154,
   "metadata": {
    "collapsed": true
   },
   "outputs": [],
   "source": [
    "data = ''.join(f.readlines())"
   ]
  },
  {
   "cell_type": "code",
   "execution_count": 155,
   "metadata": {
    "collapsed": true
   },
   "outputs": [],
   "source": [
    "f.close()"
   ]
  },
  {
   "cell_type": "code",
   "execution_count": 156,
   "metadata": {
    "collapsed": false
   },
   "outputs": [
    {
     "data": {
      "text/plain": [
       "'Back in the good old days -- the \"Golden Era\" of computers, it\\nwas easy to separate the men from the boys (sometimes called \"Real\\nMen\" and \"Quiche Eaters\" in the literature). During this period, the\\nReal Men were the ones that understood computer programming, and the\\nQuiche Eaters were the ones that didn\\'t.  A real computer programmer\\nsaid things like \"DO 10 I=1,10\" and \"ABEND\" (they actually talked in\\ncapital letters, you understand), and the rest of the world said\\nthings like \"computers are too complicated for me\" and \"I can\\'t relate\\nto computers -- they\\'re so impersonal\". (A previous work [1] points\\nout that Real Men don\\'t \"relate\" to anything, and aren\\'t afraid of\\nbeing impersonal.)'"
      ]
     },
     "execution_count": 156,
     "metadata": {},
     "output_type": "execute_result"
    }
   ],
   "source": [
    "data"
   ]
  },
  {
   "cell_type": "code",
   "execution_count": 157,
   "metadata": {
    "collapsed": true
   },
   "outputs": [],
   "source": [
    "import re"
   ]
  },
  {
   "cell_type": "code",
   "execution_count": 159,
   "metadata": {
    "collapsed": false
   },
   "outputs": [
    {
     "data": {
      "text/plain": [
       "'Back in the good old days    the  Golden Era  of computers  it was easy to separate the men from the boys  sometimes called  Real Men  and  Quiche Eaters  in the literature   During this period  the Real Men were the ones that understood computer programming  and the Quiche Eaters were the ones that didn t   A real computer programmer said things like  DO    I       and  ABEND   they actually talked in capital letters  you understand   and the rest of the world said things like  computers are too complicated for me  and  I can t relate to computers    they re so impersonal    A previous work     points out that Real Men don t  relate  to anything  and aren t afraid of being impersonal  '"
      ]
     },
     "execution_count": 159,
     "metadata": {},
     "output_type": "execute_result"
    }
   ],
   "source": [
    "re.sub('[^A-Za-z]', ' ', data)"
   ]
  },
  {
   "cell_type": "code",
   "execution_count": 161,
   "metadata": {
    "collapsed": false
   },
   "outputs": [
    {
     "data": {
      "text/plain": [
       "'Back in the good old days the Golden Era of computers it was easy to separate the men from the boys sometimes called Real Men and Quiche Eaters in the literature During this period the Real Men were the ones that understood computer programming and the Quiche Eaters were the ones that didn t A real computer programmer said things like DO I and ABEND they actually talked in capital letters you understand and the rest of the world said things like computers are too complicated for me and I can t relate to computers they re so impersonal A previous work points out that Real Men don t relate to anything and aren t afraid of being impersonal '"
      ]
     },
     "execution_count": 161,
     "metadata": {},
     "output_type": "execute_result"
    }
   ],
   "source": [
    "re.sub('\\s+', ' ', _)"
   ]
  },
  {
   "cell_type": "code",
   "execution_count": 162,
   "metadata": {
    "collapsed": false
   },
   "outputs": [
    {
     "data": {
      "text/plain": [
       "'back in the good old days the golden era of computers it was easy to separate the men from the boys sometimes called real men and quiche eaters in the literature during this period the real men were the ones that understood computer programming and the quiche eaters were the ones that didn t a real computer programmer said things like do i and abend they actually talked in capital letters you understand and the rest of the world said things like computers are too complicated for me and i can t relate to computers they re so impersonal a previous work points out that real men don t relate to anything and aren t afraid of being impersonal'"
      ]
     },
     "execution_count": 162,
     "metadata": {},
     "output_type": "execute_result"
    }
   ],
   "source": [
    "_.strip().lower()"
   ]
  },
  {
   "cell_type": "code",
   "execution_count": 163,
   "metadata": {
    "collapsed": true
   },
   "outputs": [],
   "source": [
    "words = _.split(' ')"
   ]
  },
  {
   "cell_type": "code",
   "execution_count": 164,
   "metadata": {
    "collapsed": true
   },
   "outputs": [],
   "source": [
    "from collections import Counter"
   ]
  },
  {
   "cell_type": "code",
   "execution_count": 165,
   "metadata": {
    "collapsed": true
   },
   "outputs": [],
   "source": [
    "c = Counter()\n"
   ]
  },
  {
   "cell_type": "code",
   "execution_count": 169,
   "metadata": {
    "collapsed": true
   },
   "outputs": [],
   "source": [
    "for word in set(words):\n",
    "    c[word[0]] += 1"
   ]
  },
  {
   "cell_type": "code",
   "execution_count": 168,
   "metadata": {
    "collapsed": false
   },
   "outputs": [
    {
     "data": {
      "text/plain": [
       "[('t', 28),\n",
       " ('a', 14),\n",
       " ('c', 9),\n",
       " ('i', 8),\n",
       " ('r', 8),\n",
       " ('o', 7),\n",
       " ('d', 5),\n",
       " ('w', 5),\n",
       " ('s', 5),\n",
       " ('m', 5),\n",
       " ('p', 5),\n",
       " ('e', 4),\n",
       " ('l', 4),\n",
       " ('b', 3),\n",
       " ('g', 2),\n",
       " ('f', 2),\n",
       " ('q', 2),\n",
       " ('u', 2),\n",
       " ('y', 1)]"
      ]
     },
     "execution_count": 168,
     "metadata": {},
     "output_type": "execute_result"
    }
   ],
   "source": [
    "c.most_common()"
   ]
  },
  {
   "cell_type": "code",
   "execution_count": null,
   "metadata": {
    "collapsed": true
   },
   "outputs": [],
   "source": []
  }
 ],
 "metadata": {
  "kernelspec": {
   "display_name": "Python 3",
   "language": "python",
   "name": "python3"
  },
  "language_info": {
   "codemirror_mode": {
    "name": "ipython",
    "version": 3
   },
   "file_extension": ".py",
   "mimetype": "text/x-python",
   "name": "python",
   "nbconvert_exporter": "python",
   "pygments_lexer": "ipython3",
   "version": "3.6.0"
  }
 },
 "nbformat": 4,
 "nbformat_minor": 2
}
